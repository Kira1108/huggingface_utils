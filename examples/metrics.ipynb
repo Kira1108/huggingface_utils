{
 "cells": [
  {
   "cell_type": "code",
   "execution_count": 2,
   "metadata": {},
   "outputs": [
    {
     "name": "stdout",
     "output_type": "stream",
     "text": [
      "{'precision': 0.16445993031358885, 'recall': 0.16043507817811012, 'f1': 0.16242257398485893, 'accuracy': 0.111358574610245}\n"
     ]
    }
   ],
   "source": [
    "import numpy as np\n",
    "from huggingface_utils.metrics.ner import NerMetric\n",
    "\n",
    "def fake_labels_and_logits(N, T, K):\n",
    "    labels = np.random.randint(0,K, size = (N,T))\n",
    "    labels[:,0] = -100\n",
    "    labels[:,-1] = -100\n",
    "    labels[-1,-2:] = -100\n",
    "    labels[-2,-4:] = -100\n",
    "    logits = np.random.random((N,T,K))\n",
    "    return labels, logits\n",
    "\n",
    "label_names = ['O', 'B-PER', 'I-PER', 'B-ORG', 'I-ORG', 'B-LOC', 'I-LOC', 'B-MISC', 'I-MISC']\n",
    "labels, logits = fake_labels_and_logits(100, 20, len(label_names))\n",
    "\n",
    "\n",
    "compute_metrics = NerMetric(label_names)\n",
    "print(compute_metrics((logits, labels)))\n",
    "    "
   ]
  }
 ],
 "metadata": {
  "kernelspec": {
   "display_name": "base",
   "language": "python",
   "name": "python3"
  },
  "language_info": {
   "codemirror_mode": {
    "name": "ipython",
    "version": 3
   },
   "file_extension": ".py",
   "mimetype": "text/x-python",
   "name": "python",
   "nbconvert_exporter": "python",
   "pygments_lexer": "ipython3",
   "version": "3.8.8"
  },
  "orig_nbformat": 4,
  "vscode": {
   "interpreter": {
    "hash": "00ca6355876cb87b4fa49085cfb6ff13bf34a960dfe2c5f24404f81afefb2ca5"
   }
  }
 },
 "nbformat": 4,
 "nbformat_minor": 2
}
