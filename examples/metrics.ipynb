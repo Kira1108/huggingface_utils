{
 "cells": [
  {
   "attachments": {},
   "cell_type": "markdown",
   "metadata": {},
   "source": [
    "### Use subclassing metrics"
   ]
  },
  {
   "cell_type": "code",
   "execution_count": 2,
   "metadata": {},
   "outputs": [
    {
     "name": "stdout",
     "output_type": "stream",
     "text": [
      "{'precision': 0.16445993031358885, 'recall': 0.16043507817811012, 'f1': 0.16242257398485893, 'accuracy': 0.111358574610245}\n"
     ]
    }
   ],
   "source": [
    "import numpy as np\n",
    "from huggingface_utils.metrics.ner import NerMetric\n",
    "\n",
    "def fake_labels_and_logits(N, T, K):\n",
    "    labels = np.random.randint(0,K, size = (N,T))\n",
    "    labels[:,0] = -100\n",
    "    labels[:,-1] = -100\n",
    "    labels[-1,-2:] = -100\n",
    "    labels[-2,-4:] = -100\n",
    "    logits = np.random.random((N,T,K))\n",
    "    return labels, logits\n",
    "\n",
    "label_names = ['O', 'B-PER', 'I-PER', 'B-ORG', 'I-ORG', 'B-LOC', 'I-LOC', 'B-MISC', 'I-MISC']\n",
    "labels, logits = fake_labels_and_logits(100, 20, len(label_names))\n",
    "\n",
    "\n",
    "compute_metrics = NerMetric(label_names)\n",
    "print(compute_metrics((logits, labels)))\n",
    "    "
   ]
  },
  {
   "attachments": {},
   "cell_type": "markdown",
   "metadata": {},
   "source": [
    "### Why not function?"
   ]
  },
  {
   "cell_type": "code",
   "execution_count": 3,
   "metadata": {},
   "outputs": [
    {
     "data": {
      "text/plain": [
       "{'precision': 0.18305814788226848,\n",
       " 'recall': 0.17696044413601666,\n",
       " 'f1': 0.17995765702187724,\n",
       " 'accuracy': 0.11525612472160357}"
      ]
     },
     "execution_count": 3,
     "metadata": {},
     "output_type": "execute_result"
    }
   ],
   "source": [
    "import evaluate\n",
    "\n",
    "# metric and label_names should be defined outside of compute_metrics function\n",
    "# they are going to be used as global variables.\n",
    "# And It's bad.\n",
    "metric = evaluate.load('seqeval')\n",
    "label_names = ['O', 'B-PER', 'I-PER', 'B-ORG', 'I-ORG', 'B-LOC', 'I-LOC', 'B-MISC', 'I-MISC']\n",
    "\n",
    "def compute_metrics(logits_and_labels):\n",
    "    logits, labels = logits_and_labels\n",
    "\n",
    "    # compute integer labels for (N,T,K) data.\n",
    "    pred_labels = np.argmax(logits, axis = -1)\n",
    "\n",
    "    # fill -100 on unwanted positions\n",
    "    # filter out -100 labels on both\n",
    "    # pred_labels and labels array\n",
    "    fill_with_null = np.where(labels == -100, -100, pred_labels)\n",
    "    pred_labels = [[label_names[l] for l in ele if l!= -100] for ele in fill_with_null]\n",
    "    labels = [[label_names[l] for l in ele if l!= -100] for ele in labels]\n",
    "\n",
    "    # compute metrics\n",
    "    result = metric.compute(predictions = pred_labels, references = labels)\n",
    "\n",
    "    # filter out unwanted information\n",
    "    return {\n",
    "        \"precision\":result['overall_precision'],\n",
    "        \"recall\":result['overall_recall'],\n",
    "        \"f1\":result['overall_f1'],\n",
    "        \"accuracy\":result['overall_accuracy']\n",
    "    }\n",
    "\n",
    "labels, logits = fake_labels_and_logits(100, 20, len(label_names))\n",
    "compute_metrics((logits, labels))"
   ]
  },
  {
   "cell_type": "code",
   "execution_count": null,
   "metadata": {},
   "outputs": [],
   "source": []
  }
 ],
 "metadata": {
  "kernelspec": {
   "display_name": "base",
   "language": "python",
   "name": "python3"
  },
  "language_info": {
   "codemirror_mode": {
    "name": "ipython",
    "version": 3
   },
   "file_extension": ".py",
   "mimetype": "text/x-python",
   "name": "python",
   "nbconvert_exporter": "python",
   "pygments_lexer": "ipython3",
   "version": "3.8.8"
  },
  "orig_nbformat": 4,
  "vscode": {
   "interpreter": {
    "hash": "00ca6355876cb87b4fa49085cfb6ff13bf34a960dfe2c5f24404f81afefb2ca5"
   }
  }
 },
 "nbformat": 4,
 "nbformat_minor": 2
}
