{
 "cells": [
  {
   "cell_type": "code",
   "execution_count": 1,
   "id": "9cde9af9-14c5-487e-81b0-0db832afb45a",
   "metadata": {},
   "outputs": [],
   "source": [
    "from huggingface_utils.labels import IOB as iob\n",
    "from huggingface_utils.labels import LabelAligner"
   ]
  },
  {
   "cell_type": "markdown",
   "id": "8fd3d144-2391-457b-81c2-e763d15c27a3",
   "metadata": {},
   "source": [
    "**Create a IOB formatted mapper**"
   ]
  },
  {
   "cell_type": "code",
   "execution_count": 2,
   "id": "1352e6e3-c6db-47e6-acd1-a02dbfdc79b2",
   "metadata": {},
   "outputs": [
    {
     "name": "stdout",
     "output_type": "stream",
     "text": [
      "Ner Mapper\n",
      "{'B-PER': 'I-PER', 'B-ORG': 'I-ORG', 'B-LOC': 'I-LOC', 'B-MISC': 'I-MISC'}\n",
      "{1: 2, 3: 4, 5: 6, 7: 8}\n",
      "\n",
      "Chunk Mapper\n",
      "{'B-ADJP': 'I-ADJP', 'B-ADVP': 'I-ADVP', 'B-CONJP': 'I-CONJP', 'B-INTJ': 'I-INTJ', 'B-LST': 'I-LST', 'B-NP': 'I-NP', 'B-PP': 'I-PP', 'B-PRT': 'I-PRT', 'B-SBAR': 'I-SBAR', 'B-UCP': 'I-UCP', 'B-VP': 'I-VP'}\n",
      "{1: 2, 3: 4, 5: 6, 7: 8, 9: 10, 11: 12, 13: 14, 15: 16, 17: 18, 19: 20, 21: 22}\n",
      "\n",
      "Pos Mapper\n",
      "{}\n",
      "{}\n"
     ]
    }
   ],
   "source": [
    "# for named entity recognition task, we change B-<tag> into I-<tag>\n",
    "ner_label_names = ['O', 'B-PER', 'I-PER', 'B-ORG', 'I-ORG', 'B-LOC', 'I-LOC', 'B-MISC', 'I-MISC']\n",
    "\n",
    "# for pos tagging task, do nothing, returning an empty dictionary\n",
    "pos_label_names = ['\"',\"''\",'#','$','(',')',',','.',':','``','CC','CD','DT','EX','FW','IN','JJ',\n",
    "'JJR','JJS','LS','MD','NN','NNP','NNPS','NNS','NN|SYM','PDT','POS','PRP','PRP$','RB','RBR','RBS',\n",
    "'RP','SYM','TO','UH','VB','VBD','VBG','VBN','VBP','VBZ','WDT','WP','WP$','WRB']\n",
    "\n",
    "# for trunk classification task, we change B-<tag> into I-<tag>\n",
    "chunk_label_names = ['O','B-ADJP','I-ADJP','B-ADVP','I-ADVP','B-CONJP','I-CONJP','B-INTJ','I-INTJ',\n",
    "'B-LST','I-LST','B-NP','I-NP','B-PP','I-PP','B-PRT','I-PRT','B-SBAR','I-SBAR','B-UCP','I-UCP','B-VP','I-VP']\n",
    "\n",
    "# use mapper creation functions -> str2str\n",
    "ner_mapper = iob.create_iob_str_mapper(ner_label_names)\n",
    "chunk_mapper = iob.create_iob_str_mapper(chunk_label_names)\n",
    "pos_mapper = iob.create_iob_str_mapper(pos_label_names)\n",
    "\n",
    "# use mapper creation functions -> int2int\n",
    "ner_label_mapper = iob.create_iob_label_mapper(ner_label_names)\n",
    "chunk_label_mapper = iob.create_iob_label_mapper(chunk_label_names)\n",
    "pos_label_mapper = iob.create_iob_label_mapper(pos_label_names)\n",
    "\n",
    "print(\"Ner Mapper\")\n",
    "print(ner_mapper)\n",
    "print(ner_label_mapper)\n",
    "\n",
    "print(\"\\nChunk Mapper\")\n",
    "print(chunk_mapper)\n",
    "print(chunk_label_mapper)\n",
    "\n",
    "print(\"\\nPos Mapper\")\n",
    "print(pos_mapper)\n",
    "print(pos_label_mapper)"
   ]
  },
  {
   "cell_type": "markdown",
   "id": "f6a10d45-8b90-481c-9e1a-8b8f155ff0ef",
   "metadata": {},
   "source": [
    "**Label Align simple case** - Map labels of special token to -100"
   ]
  },
  {
   "cell_type": "code",
   "execution_count": 3,
   "id": "5977fe04-4827-4d52-9ffd-6a6174aa31ed",
   "metadata": {},
   "outputs": [
    {
     "name": "stdout",
     "output_type": "stream",
     "text": [
      "Simple Case Test:\n",
      "Expected:  [-100, 1, 0, 0, 1, 1, -100]\n",
      "Got     :  [-100, 1, 0, 0, 1, 1, -100]\n"
     ]
    }
   ],
   "source": [
    "# Test Simple Case\n",
    "labels =     [       1,  0,      1,    1]\n",
    "word_ids =   [None,  0,  1,  1,  2,    3,  None]\n",
    "want_label = [-100,  1,  0,  0,  1,    1,  -100]\n",
    "\n",
    "aligner = LabelAligner()\n",
    "print(\"Simple Case Test:\")\n",
    "print(\"Expected: \", want_label)\n",
    "print(\"Got     : \", aligner(labels, word_ids))"
   ]
  },
  {
   "cell_type": "markdown",
   "id": "f4642b45-ce2f-4634-84d4-619425fec069",
   "metadata": {},
   "source": [
    "**Label Align IOB case** - Map labels of special token to -100 and change subword from `B-<tag>` to `I-<tag>`"
   ]
  },
  {
   "cell_type": "code",
   "execution_count": 4,
   "id": "f505a433-8f14-4abb-8fc1-9b8d40bf0f47",
   "metadata": {},
   "outputs": [
    {
     "name": "stdout",
     "output_type": "stream",
     "text": [
      "\n",
      "IOB Case Test:\n",
      "Expected:  [-100, 0, 0, 0, 0, 0, 0, 0, 0, 0, 0, 0, 0, 0, 0, 0, 0, 0, 0, 0, 0, 7, 8, 0, 0, 0, 0, 0, 0, 0, -100]\n",
      "Got     :  [-100, 0, 0, 0, 0, 0, 0, 0, 0, 0, 0, 0, 0, 0, 0, 0, 0, 0, 0, 0, 0, 7, 8, 0, 0, 0, 0, 0, 0, 0, -100]\n"
     ]
    }
   ],
   "source": [
    "# Test IOB case\n",
    "label_names = ['O', 'B-PER', 'I-PER', 'B-ORG', 'I-ORG', 'B-LOC', 'I-LOC', 'B-MISC', 'I-MISC']\n",
    "labels = [0, 0, 0, 0, 0, 0, 0, 0, 0, 0, 7, 0, 0, 0, 0, 0, 0, 0]\n",
    "word_ids = [None,0,1,1,1,2,3,4,5,5,5,5,5,5,6,7,7,7,8,9,9,10,10,11,12,13,14,15,16,17,None]\n",
    "want_label = [-100,0,0,0,0,0,0,0,0,0,0,0,0,0,0,0,0,0,0,0,0,7,8,0,0,0,0,0,0,0,-100]\n",
    "\n",
    "aligner = LabelAligner(label_names = label_names, use_iob = True)\n",
    "print(\"\\nIOB Case Test:\")\n",
    "print(\"Expected: \", want_label)\n",
    "print(\"Got     : \", aligner(labels, word_ids))"
   ]
  },
  {
   "cell_type": "code",
   "execution_count": null,
   "id": "f8ab6aa2-115b-4770-95e2-ef212703c906",
   "metadata": {},
   "outputs": [],
   "source": []
  }
 ],
 "metadata": {
  "kernelspec": {
   "display_name": "Python 3",
   "language": "python",
   "name": "python3"
  },
  "language_info": {
   "codemirror_mode": {
    "name": "ipython",
    "version": 3
   },
   "file_extension": ".py",
   "mimetype": "text/x-python",
   "name": "python",
   "nbconvert_exporter": "python",
   "pygments_lexer": "ipython3",
   "version": "3.8.8"
  }
 },
 "nbformat": 4,
 "nbformat_minor": 5
}
